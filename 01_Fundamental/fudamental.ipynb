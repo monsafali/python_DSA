{
 "cells": [
  {
   "cell_type": "code",
   "execution_count": 69,
   "metadata": {},
   "outputs": [
    {
     "name": "stdout",
     "output_type": "stream",
     "text": [
      "Myself asdf I am 4\n"
     ]
    }
   ],
   "source": [
    "name = input('what is your name')\n",
    "age = int(input('what is your name'))\n",
    "txt = f\"Myself {name} I am {age}\"\n",
    "print(txt)\n"
   ]
  },
  {
   "cell_type": "code",
   "execution_count": 7,
   "metadata": {},
   "outputs": [
    {
     "name": "stdout",
     "output_type": "stream",
     "text": [
      "16\n"
     ]
    }
   ],
   "source": [
    "old_age = int(input('enter you old age'))\n",
    "new_age = old_age +2\n",
    "print(new_age)"
   ]
  },
  {
   "cell_type": "code",
   "execution_count": 8,
   "metadata": {},
   "outputs": [
    {
     "name": "stdout",
     "output_type": "stream",
     "text": [
      "24\n"
     ]
    }
   ],
   "source": [
    "first_num = int(input('enter first number'))\n",
    "second_num = int(input('enter second number'))\n",
    "print(first_num+second_num)"
   ]
  },
  {
   "cell_type": "markdown",
   "metadata": {},
   "source": [
    "string\n"
   ]
  },
  {
   "cell_type": "code",
   "execution_count": null,
   "metadata": {},
   "outputs": [],
   "source": [
    "advice = '   monsaf_ali only your worked hard make you unique from other ,monsafali27@gmail.com'\n",
    "print(advice.upper())\n",
    "print(advice.capitalize())\n",
    "print(advice.find('hard'))\n",
    "print(advice.replace('monsaf_ali','ahmed'))\n",
    "\n",
    "\n",
    "print('make' in advice)\n",
    "\n",
    "list = advice.split(',')\n",
    "print(advice.strip())\n"
   ]
  },
  {
   "cell_type": "markdown",
   "metadata": {},
   "source": [
    "Arithmetic Operator\n"
   ]
  },
  {
   "cell_type": "code",
   "execution_count": null,
   "metadata": {},
   "outputs": [],
   "source": [
    "# print(5/2)\n",
    "# print(5//2)\n",
    "# print(5*5)\n",
    "# print(5+5)\n",
    "# print(11%2)\n",
    "# print(5**2)\n",
    "\n",
    "\n",
    "i = 5\n",
    "i *= 2\n",
    "print(i)\n",
    "\n",
    "result = 2+3/5\n",
    "print(result)\n",
    "\n",
    "\n",
    "print(3>=1)\n",
    "print(3!=4)\n",
    "\n",
    "print(2>3) or (3<4)\n"
   ]
  },
  {
   "cell_type": "markdown",
   "metadata": {},
   "source": [
    "if_else Stetements\n"
   ]
  },
  {
   "cell_type": "code",
   "execution_count": 50,
   "metadata": {},
   "outputs": [
    {
     "name": "stdout",
     "output_type": "stream",
     "text": [
      "you are in school\n"
     ]
    }
   ],
   "source": [
    "age = 15\n",
    "if age >=18:\n",
    "    print(f'yes you can vole your age is {age}+')\n",
    "elif age <= 18 and age > 3:\n",
    "    print('you are in school')\n",
    "else:\n",
    "    print('no you cannot caste vote')"
   ]
  },
  {
   "cell_type": "markdown",
   "metadata": {},
   "source": [
    "mini project calculator\n"
   ]
  },
  {
   "cell_type": "code",
   "execution_count": 54,
   "metadata": {},
   "outputs": [
    {
     "name": "stdout",
     "output_type": "stream",
     "text": [
      "1\n"
     ]
    }
   ],
   "source": [
    "first_num = int(input('enter your first number'))\n",
    "operator = input('enter operator(+,-,/,*,%)')\n",
    "second_num = int(input('enter your first number'))\n",
    "\n",
    "if operator == '+':\n",
    "    print(first_num+second_num)\n",
    "elif operator == '-':\n",
    "    print(first_num-second_num)\n",
    "elif operator == '*':\n",
    "    print(first_num*second_num)\n",
    "elif operator == \"/\":\n",
    "    print(first_num/second_num)\n",
    "elif operator == '%':\n",
    "    print(first_num%second_num)\n",
    "else:\n",
    "    print('wrong equation')"
   ]
  },
  {
   "cell_type": "markdown",
   "metadata": {},
   "source": [
    "range\n"
   ]
  },
  {
   "cell_type": "code",
   "execution_count": 55,
   "metadata": {},
   "outputs": [
    {
     "name": "stdout",
     "output_type": "stream",
     "text": [
      "range(0, 5)\n"
     ]
    }
   ],
   "source": [
    "number = range(5)\n",
    "print(number)"
   ]
  },
  {
   "cell_type": "code",
   "execution_count": null,
   "metadata": {},
   "outputs": [],
   "source": [
    "i = 1\n",
    "while i<20:\n",
    "    print(i *\"*\")\n",
    "    i += 1\n",
    "\n",
    "\n",
    "\n",
    "# for x in range(10):\n",
    "#     print('weleocme to ')"
   ]
  },
  {
   "cell_type": "code",
   "execution_count": 66,
   "metadata": {},
   "outputs": [
    {
     "name": "stdout",
     "output_type": "stream",
     "text": [
      "[99, 100, 75, 81, 'math', 'eng']\n",
      "99\n"
     ]
    }
   ],
   "source": [
    "marks = [95,75,81,'math']\n",
    "marks[0] = 100\n",
    "marks.insert(0,99)\n",
    "marks.append('eng')\n",
    "print(marks)\n",
    "print(marks[0])"
   ]
  },
  {
   "cell_type": "code",
   "execution_count": 67,
   "metadata": {},
   "outputs": [
    {
     "name": "stdout",
     "output_type": "stream",
     "text": [
      "['apple', 'banana', 'cherry', 'mango', 'pineapple', 'papaya']\n"
     ]
    }
   ],
   "source": [
    "thislist = [\"apple\", \"banana\", \"cherry\"]\n",
    "tropical = [\"mango\", \"pineapple\", \"papaya\"]\n",
    "\n",
    "thislist.extend(tropical)\n",
    "\n",
    "print(thislist)"
   ]
  },
  {
   "cell_type": "code",
   "execution_count": 72,
   "metadata": {},
   "outputs": [
    {
     "name": "stdout",
     "output_type": "stream",
     "text": [
      "monsaf\n",
      "kamal\n",
      "murtaza\n"
     ]
    }
   ],
   "source": [
    "students = ['monsaf','kamal','ali','murtaza']\n",
    "for x in students:\n",
    "    if x == 'ali':\n",
    "        continue\n",
    "    print(x)"
   ]
  },
  {
   "cell_type": "code",
   "execution_count": 78,
   "metadata": {},
   "outputs": [
    {
     "name": "stdout",
     "output_type": "stream",
     "text": [
      "1\n",
      "{34, 95, 55}\n"
     ]
    }
   ],
   "source": [
    "# Tupes\n",
    "\n",
    "marks = (95,91,34,55)\n",
    "print(marks.count(95))\n",
    "\n",
    "# set\n",
    "marks = {95,95,34,55}\n",
    "print(marks)\n",
    "\n",
    "# set has store only unique values"
   ]
  },
  {
   "cell_type": "code",
   "execution_count": 86,
   "metadata": {},
   "outputs": [],
   "source": [
    "thisdict = {\n",
    "  \"brand\": \"Ford\",\n",
    "  \"model\": \"Mustang\",\n",
    "  \"year\": 1964\n",
    "}\n",
    "thisdict[\"horsepower\"] = 240"
   ]
  },
  {
   "cell_type": "code",
   "execution_count": 87,
   "metadata": {},
   "outputs": [
    {
     "name": "stdout",
     "output_type": "stream",
     "text": [
      "dict_values(['Ford', 'Mustang', 1964, 240])\n"
     ]
    }
   ],
   "source": [
    "x = thisdict.values()\n",
    "print(x)"
   ]
  },
  {
   "cell_type": "code",
   "execution_count": null,
   "metadata": {},
   "outputs": [],
   "source": []
  }
 ],
 "metadata": {
  "kernelspec": {
   "display_name": "Python 3",
   "language": "python",
   "name": "python3"
  },
  "language_info": {
   "codemirror_mode": {
    "name": "ipython",
    "version": 3
   },
   "file_extension": ".py",
   "mimetype": "text/x-python",
   "name": "python",
   "nbconvert_exporter": "python",
   "pygments_lexer": "ipython3",
   "version": "3.10.12"
  }
 },
 "nbformat": 4,
 "nbformat_minor": 2
}
